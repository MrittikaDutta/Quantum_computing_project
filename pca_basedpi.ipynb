{
 "cells": [
  {
   "cell_type": "code",
   "execution_count": 1,
   "metadata": {},
   "outputs": [
    {
     "ename": "ValueError",
     "evalue": "cannot reshape array of size 3591500 into shape (152,152,200)",
     "output_type": "error",
     "traceback": [
      "\u001b[0;31m---------------------------------------------------------------------------\u001b[0m",
      "\u001b[0;31mValueError\u001b[0m                                Traceback (most recent call last)",
      "\u001b[1;32m/Users/mrittikadutta/Desktop/CODES/JUPYTER 1/pca_basedpi.ipynb Cell 1\u001b[0m line \u001b[0;36m4\n\u001b[1;32m     <a href='vscode-notebook-cell:/Users/mrittikadutta/Desktop/CODES/JUPYTER%201/pca_basedpi.ipynb#W0sZmlsZQ%3D%3D?line=46'>47</a>\u001b[0m data_array \u001b[39m=\u001b[39m load_data(\u001b[39m'\u001b[39m\u001b[39mindian_pines.csv\u001b[39m\u001b[39m'\u001b[39m)\n\u001b[1;32m     <a href='vscode-notebook-cell:/Users/mrittikadutta/Desktop/CODES/JUPYTER%201/pca_basedpi.ipynb#W0sZmlsZQ%3D%3D?line=47'>48</a>\u001b[0m data_array \u001b[39m=\u001b[39m adjust_data_size(data_array, (\u001b[39m152\u001b[39m, \u001b[39m152\u001b[39m, \u001b[39m200\u001b[39m))\n\u001b[0;32m---> <a href='vscode-notebook-cell:/Users/mrittikadutta/Desktop/CODES/JUPYTER%201/pca_basedpi.ipynb#W0sZmlsZQ%3D%3D?line=48'>49</a>\u001b[0m reshaped_data \u001b[39m=\u001b[39m data_array\u001b[39m.\u001b[39mreshape((\u001b[39m152\u001b[39m, \u001b[39m152\u001b[39m, \u001b[39m200\u001b[39m))\n\u001b[1;32m     <a href='vscode-notebook-cell:/Users/mrittikadutta/Desktop/CODES/JUPYTER%201/pca_basedpi.ipynb#W0sZmlsZQ%3D%3D?line=50'>51</a>\u001b[0m \u001b[39m# Visualize a band\u001b[39;00m\n\u001b[1;32m     <a href='vscode-notebook-cell:/Users/mrittikadutta/Desktop/CODES/JUPYTER%201/pca_basedpi.ipynb#W0sZmlsZQ%3D%3D?line=51'>52</a>\u001b[0m visualize_band(reshaped_data, \u001b[39m0\u001b[39m)\n",
      "\u001b[0;31mValueError\u001b[0m: cannot reshape array of size 3591500 into shape (152,152,200)"
     ]
    }
   ],
   "source": [
    "import pandas as pd\n",
    "import numpy as np\n",
    "import matplotlib.pyplot as plt\n",
    "from PIL import Image\n",
    "from sklearn.decomposition import PCA\n",
    "\n",
    "def load_data(filename):\n",
    "    data = pd.read_csv(filename)\n",
    "    return data.to_numpy()\n",
    "\n",
    "def adjust_data_size(data_array, required_shape):\n",
    "    required_elements = np.prod(required_shape)\n",
    "    current_size = data_array.size\n",
    "\n",
    "    if current_size < required_elements:\n",
    "        # Add zeros if current size is less\n",
    "        return np.append(data_array, np.zeros(required_elements - current_size))\n",
    "    elif current_size > required_elements:\n",
    "        # Trim excess if current size is more\n",
    "        return data_array[:-(current_size - required_elements)]\n",
    "    return data_array\n",
    "\n",
    "def visualize_band(data, band_index):\n",
    "    plt.imshow(data[:, :, band_index], cmap='gray')\n",
    "    plt.title(f'Spectral Band {band_index}')\n",
    "    plt.colorbar()\n",
    "    plt.show()\n",
    "\n",
    "def create_rgb_image(data, red_band, green_band, blue_band):\n",
    "    rgb_image = np.stack([data[:, :, red_band], data[:, :, green_band], data[:, :, blue_band]], axis=-1)\n",
    "    rgb_image = (rgb_image - np.min(rgb_image)) / (np.max(rgb_image) - np.min(rgb_image))\n",
    "    return rgb_image\n",
    "\n",
    "def save_image(image_array, filename):\n",
    "    image_8bit = (image_array * 255).astype(np.uint8)\n",
    "    image = Image.fromarray(image_8bit)\n",
    "    image.save(filename)\n",
    "    print(f\"Image saved as '{filename}'\")\n",
    "\n",
    "def apply_pca(data):\n",
    "    reshaped_data_flat = data.reshape(-1, data.shape[2])\n",
    "    pca = PCA(n_components=3)\n",
    "    pca_result = pca.fit_transform(reshaped_data_flat)\n",
    "    return pca_result.reshape(data.shape[0], data.shape[1], 3)\n",
    "\n",
    "# Main Execution\n",
    "data_array = load_data('indian_pines.csv')\n",
    "data_array = adjust_data_size(data_array, (152, 152, 200))\n",
    "reshaped_data = data_array.reshape((152, 152, 200))\n",
    "\n",
    "# Visualize a band\n",
    "visualize_band(reshaped_data, 0)\n",
    "\n",
    "# Create and save an RGB image\n",
    "rgb_image = create_rgb_image(reshaped_data, 30, 20, 10)\n",
    "plt.imshow(rgb_image)\n",
    "plt.title('RGB Image from Hyperspectral Data')\n",
    "plt.show()\n",
    "save_image(rgb_image, 'hyperspectral_rgb_image.png')\n",
    "\n",
    "# Apply PCA and visualize\n",
    "pca_image = apply_pca(reshaped_data)\n",
    "plt.imshow(pca_image)\n",
    "plt.title('PCA-based Hyperspectral Image')\n",
    "plt.show()\n"
   ]
  },
  {
   "cell_type": "code",
   "execution_count": null,
   "metadata": {},
   "outputs": [],
   "source": []
  },
  {
   "cell_type": "code",
   "execution_count": null,
   "metadata": {},
   "outputs": [],
   "source": []
  }
 ],
 "metadata": {
  "kernelspec": {
   "display_name": "base",
   "language": "python",
   "name": "python3"
  },
  "language_info": {
   "codemirror_mode": {
    "name": "ipython",
    "version": 3
   },
   "file_extension": ".py",
   "mimetype": "text/x-python",
   "name": "python",
   "nbconvert_exporter": "python",
   "pygments_lexer": "ipython3",
   "version": "3.11.5"
  }
 },
 "nbformat": 4,
 "nbformat_minor": 2
}
